{
 "cells": [
  {
   "cell_type": "code",
   "execution_count": 1,
   "id": "eabfbbe6",
   "metadata": {},
   "outputs": [],
   "source": [
    "import pandas as pd"
   ]
  },
  {
   "cell_type": "code",
   "execution_count": 3,
   "id": "3c826f99",
   "metadata": {},
   "outputs": [],
   "source": [
    "df_train= pd.read_csv(\"train.csv\")"
   ]
  },
  {
   "cell_type": "code",
   "execution_count": 4,
   "id": "c636e4da",
   "metadata": {},
   "outputs": [],
   "source": [
    "df_test= pd.read_csv(\"test.csv\")"
   ]
  },
  {
   "cell_type": "code",
   "execution_count": 7,
   "id": "e0be19e5",
   "metadata": {
    "scrolled": true
   },
   "outputs": [],
   "source": [
    "df= pd.merge(df_train,df_test ,on=\"User_ID\",how = \"left\")"
   ]
  },
  {
   "cell_type": "code",
   "execution_count": 8,
   "id": "6a8ee45b",
   "metadata": {},
   "outputs": [
    {
     "data": {
      "text/plain": [
       "Index(['User_ID', 'Product_ID_x', 'Gender_x', 'Age_x', 'Occupation_x',\n",
       "       'City_Category_x', 'Stay_In_Current_City_Years_x', 'Marital_Status_x',\n",
       "       'Product_Category_1_x', 'Product_Category_2_x', 'Product_Category_3_x',\n",
       "       'Purchase', 'Product_ID_y', 'Gender_y', 'Age_y', 'Occupation_y',\n",
       "       'City_Category_y', 'Stay_In_Current_City_Years_y', 'Marital_Status_y',\n",
       "       'Product_Category_1_y', 'Product_Category_2_y', 'Product_Category_3_y'],\n",
       "      dtype='object')"
      ]
     },
     "execution_count": 8,
     "metadata": {},
     "output_type": "execute_result"
    }
   ],
   "source": [
    "df.columns"
   ]
  },
  {
   "cell_type": "code",
   "execution_count": null,
   "id": "bd5584db",
   "metadata": {},
   "outputs": [],
   "source": []
  }
 ],
 "metadata": {
  "kernelspec": {
   "display_name": "Python 3 (ipykernel)",
   "language": "python",
   "name": "python3"
  },
  "language_info": {
   "codemirror_mode": {
    "name": "ipython",
    "version": 3
   },
   "file_extension": ".py",
   "mimetype": "text/x-python",
   "name": "python",
   "nbconvert_exporter": "python",
   "pygments_lexer": "ipython3",
   "version": "3.11.3"
  }
 },
 "nbformat": 4,
 "nbformat_minor": 5
}
